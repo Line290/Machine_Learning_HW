{
 "cells": [
  {
   "cell_type": "code",
   "execution_count": 1,
   "metadata": {},
   "outputs": [],
   "source": [
    "import matplotlib.pyplot as plt\n",
    "%matplotlib inline"
   ]
  },
  {
   "cell_type": "code",
   "execution_count": 2,
   "metadata": {},
   "outputs": [],
   "source": [
    "from stocker import Stocker"
   ]
  },
  {
   "cell_type": "code",
   "execution_count": 3,
   "metadata": {},
   "outputs": [
    {
     "name": "stdout",
     "output_type": "stream",
     "text": [
      "        Date   Open   High    Low  Close     Volume  Ex-Dividend  Split Ratio  \\\n",
      "0 1997-05-16  22.38  23.75  20.50  20.75  1225000.0          0.0          1.0   \n",
      "1 1997-05-19  20.50  21.25  19.50  20.50   508900.0          0.0          1.0   \n",
      "2 1997-05-20  20.75  21.00  19.63  19.63   455600.0          0.0          1.0   \n",
      "3 1997-05-21  19.25  19.75  16.50  17.13  1571100.0          0.0          1.0   \n",
      "4 1997-05-22  17.25  17.38  15.75  16.75   981400.0          0.0          1.0   \n",
      "\n",
      "   Adj. Open  Adj. High  Adj. Low  Adj. Close  Adj. Volume  \n",
      "0   1.865000   1.979167  1.708333    1.729167   14700000.0  \n",
      "1   1.708333   1.770833  1.625000    1.708333    6106800.0  \n",
      "2   1.729167   1.750000  1.635833    1.635833    5467200.0  \n",
      "3   1.604167   1.645833  1.375000    1.427500   18853200.0  \n",
      "4   1.437500   1.448333  1.312500    1.395833   11776800.0  \n",
      "AMZN Stocker Initialized. Data covers 1997-05-16 to 2018-03-27.\n"
     ]
    }
   ],
   "source": [
    "amazon = Stocker('AMZN')"
   ]
  },
  {
   "cell_type": "code",
   "execution_count": 4,
   "metadata": {},
   "outputs": [
    {
     "name": "stdout",
     "output_type": "stream",
     "text": [
      "0      1997-05-16\n",
      "1      1997-05-19\n",
      "2      1997-05-20\n",
      "3      1997-05-21\n",
      "4      1997-05-22\n",
      "5      1997-05-23\n",
      "6      1997-05-27\n",
      "7      1997-05-28\n",
      "8      1997-05-29\n",
      "9      1997-05-30\n",
      "10     1997-06-02\n",
      "11     1997-06-03\n",
      "12     1997-06-04\n",
      "13     1997-06-05\n",
      "14     1997-06-06\n",
      "15     1997-06-09\n",
      "16     1997-06-10\n",
      "17     1997-06-11\n",
      "18     1997-06-12\n",
      "19     1997-06-13\n",
      "20     1997-06-16\n",
      "21     1997-06-17\n",
      "22     1997-06-18\n",
      "23     1997-06-19\n",
      "24     1997-06-20\n",
      "25     1997-06-23\n",
      "26     1997-06-24\n",
      "27     1997-06-25\n",
      "28     1997-06-26\n",
      "29     1997-06-27\n",
      "          ...    \n",
      "5218   2018-02-13\n",
      "5219   2018-02-14\n",
      "5220   2018-02-15\n",
      "5221   2018-02-16\n",
      "5222   2018-02-20\n",
      "5223   2018-02-21\n",
      "5224   2018-02-22\n",
      "5225   2018-02-23\n",
      "5226   2018-02-26\n",
      "5227   2018-02-27\n",
      "5228   2018-02-28\n",
      "5229   2018-03-01\n",
      "5230   2018-03-02\n",
      "5231   2018-03-05\n",
      "5232   2018-03-06\n",
      "5233   2018-03-07\n",
      "5234   2018-03-08\n",
      "5235   2018-03-09\n",
      "5236   2018-03-12\n",
      "5237   2018-03-13\n",
      "5238   2018-03-14\n",
      "5239   2018-03-15\n",
      "5240   2018-03-16\n",
      "5241   2018-03-19\n",
      "5242   2018-03-20\n",
      "5243   2018-03-21\n",
      "5244   2018-03-22\n",
      "5245   2018-03-23\n",
      "5246   2018-03-26\n",
      "5247   2018-03-27\n",
      "Name: Date, Length: 5248, dtype: datetime64[ns] 1997-05-16 2018-03-27\n"
     ]
    },
    {
     "ename": "ValueError",
     "evalue": "cannot set a Timestamp with a non-timestamp",
     "output_type": "error",
     "traceback": [
      "\u001b[0;31m---------------------------------------------------------------------------\u001b[0m",
      "\u001b[0;31mValueError\u001b[0m                                Traceback (most recent call last)",
      "\u001b[0;32m<ipython-input-4-5a29b936bf0b>\u001b[0m in \u001b[0;36m<module>\u001b[0;34m()\u001b[0m\n\u001b[0;32m----> 1\u001b[0;31m \u001b[0mamazon\u001b[0m\u001b[0;34m.\u001b[0m\u001b[0mplot_stock\u001b[0m\u001b[0;34m(\u001b[0m\u001b[0;34m)\u001b[0m\u001b[0;34m\u001b[0m\u001b[0m\n\u001b[0m",
      "\u001b[0;32m/home/line290/Documents/MLHW/project/stock/stocker.py\u001b[0m in \u001b[0;36mplot_stock\u001b[0;34m(self, start_date, end_date, stats, plot_type)\u001b[0m\n\u001b[1;32m    231\u001b[0m             \u001b[0mend_date\u001b[0m \u001b[0;34m=\u001b[0m \u001b[0mself\u001b[0m\u001b[0;34m.\u001b[0m\u001b[0mmax_date\u001b[0m\u001b[0;34m\u001b[0m\u001b[0m\n\u001b[1;32m    232\u001b[0m \u001b[0;34m\u001b[0m\u001b[0m\n\u001b[0;32m--> 233\u001b[0;31m         \u001b[0mstock_plot\u001b[0m \u001b[0;34m=\u001b[0m \u001b[0mself\u001b[0m\u001b[0;34m.\u001b[0m\u001b[0mmake_df\u001b[0m\u001b[0;34m(\u001b[0m\u001b[0mstart_date\u001b[0m\u001b[0;34m,\u001b[0m \u001b[0mend_date\u001b[0m\u001b[0;34m)\u001b[0m\u001b[0;34m\u001b[0m\u001b[0m\n\u001b[0m\u001b[1;32m    234\u001b[0m \u001b[0;34m\u001b[0m\u001b[0m\n\u001b[1;32m    235\u001b[0m         \u001b[0mcolors\u001b[0m \u001b[0;34m=\u001b[0m \u001b[0;34m[\u001b[0m\u001b[0;34m'r'\u001b[0m\u001b[0;34m,\u001b[0m \u001b[0;34m'b'\u001b[0m\u001b[0;34m,\u001b[0m \u001b[0;34m'g'\u001b[0m\u001b[0;34m,\u001b[0m \u001b[0;34m'y'\u001b[0m\u001b[0;34m,\u001b[0m \u001b[0;34m'c'\u001b[0m\u001b[0;34m,\u001b[0m \u001b[0;34m'm'\u001b[0m\u001b[0;34m]\u001b[0m\u001b[0;34m\u001b[0m\u001b[0m\n",
      "\u001b[0;32m/home/line290/Documents/MLHW/project/stock/stocker.py\u001b[0m in \u001b[0;36mmake_df\u001b[0;34m(self, start_date, end_date, df)\u001b[0m\n\u001b[1;32m    178\u001b[0m                 \u001b[0;32mif\u001b[0m \u001b[0;34m(\u001b[0m\u001b[0mend_in\u001b[0m\u001b[0;34m)\u001b[0m \u001b[0;34m&\u001b[0m \u001b[0;34m(\u001b[0m\u001b[0mstart_in\u001b[0m\u001b[0;34m)\u001b[0m\u001b[0;34m:\u001b[0m\u001b[0;34m\u001b[0m\u001b[0m\n\u001b[1;32m    179\u001b[0m                     \u001b[0;32mprint\u001b[0m \u001b[0mdf\u001b[0m\u001b[0;34m[\u001b[0m\u001b[0;34m'Date'\u001b[0m\u001b[0;34m]\u001b[0m\u001b[0;34m,\u001b[0m \u001b[0mstart_date\u001b[0m\u001b[0;34m.\u001b[0m\u001b[0mdate\u001b[0m\u001b[0;34m(\u001b[0m\u001b[0;34m)\u001b[0m\u001b[0;34m,\u001b[0m \u001b[0mend_date\u001b[0m\u001b[0;34m.\u001b[0m\u001b[0mdate\u001b[0m\u001b[0;34m(\u001b[0m\u001b[0;34m)\u001b[0m\u001b[0;34m\u001b[0m\u001b[0m\n\u001b[0;32m--> 180\u001b[0;31m                     trim_df = df[(df['Date'] >= start_date.date()) & \n\u001b[0m\u001b[1;32m    181\u001b[0m                                  (df['Date'] <= end_date.date())]\n\u001b[1;32m    182\u001b[0m                 \u001b[0;32melse\u001b[0m\u001b[0;34m:\u001b[0m\u001b[0;34m\u001b[0m\u001b[0m\n",
      "\u001b[0;32m/usr/local/lib/python2.7/dist-packages/pandas/core/ops.pyc\u001b[0m in \u001b[0;36mwrapper\u001b[0;34m(self, other, axis)\u001b[0m\n\u001b[1;32m    877\u001b[0m \u001b[0;34m\u001b[0m\u001b[0m\n\u001b[1;32m    878\u001b[0m             \u001b[0;32mwith\u001b[0m \u001b[0mnp\u001b[0m\u001b[0;34m.\u001b[0m\u001b[0merrstate\u001b[0m\u001b[0;34m(\u001b[0m\u001b[0mall\u001b[0m\u001b[0;34m=\u001b[0m\u001b[0;34m'ignore'\u001b[0m\u001b[0;34m)\u001b[0m\u001b[0;34m:\u001b[0m\u001b[0;34m\u001b[0m\u001b[0m\n\u001b[0;32m--> 879\u001b[0;31m                 \u001b[0mres\u001b[0m \u001b[0;34m=\u001b[0m \u001b[0mna_op\u001b[0m\u001b[0;34m(\u001b[0m\u001b[0mvalues\u001b[0m\u001b[0;34m,\u001b[0m \u001b[0mother\u001b[0m\u001b[0;34m)\u001b[0m\u001b[0;34m\u001b[0m\u001b[0m\n\u001b[0m\u001b[1;32m    880\u001b[0m             \u001b[0;32mif\u001b[0m \u001b[0mis_scalar\u001b[0m\u001b[0;34m(\u001b[0m\u001b[0mres\u001b[0m\u001b[0;34m)\u001b[0m\u001b[0;34m:\u001b[0m\u001b[0;34m\u001b[0m\u001b[0m\n\u001b[1;32m    881\u001b[0m                 raise TypeError('Could not compare {typ} type with Series'\n",
      "\u001b[0;32m/usr/local/lib/python2.7/dist-packages/pandas/core/ops.pyc\u001b[0m in \u001b[0;36mna_op\u001b[0;34m(x, y)\u001b[0m\n\u001b[1;32m    806\u001b[0m                 \u001b[0;32mif\u001b[0m \u001b[0mis_scalar\u001b[0m\u001b[0;34m(\u001b[0m\u001b[0my\u001b[0m\u001b[0;34m)\u001b[0m\u001b[0;34m:\u001b[0m\u001b[0;34m\u001b[0m\u001b[0m\n\u001b[1;32m    807\u001b[0m                     \u001b[0mmask\u001b[0m \u001b[0;34m=\u001b[0m \u001b[0misna\u001b[0m\u001b[0;34m(\u001b[0m\u001b[0mx\u001b[0m\u001b[0;34m)\u001b[0m\u001b[0;34m\u001b[0m\u001b[0m\n\u001b[0;32m--> 808\u001b[0;31m                     \u001b[0my\u001b[0m \u001b[0;34m=\u001b[0m \u001b[0mlibindex\u001b[0m\u001b[0;34m.\u001b[0m\u001b[0mconvert_scalar\u001b[0m\u001b[0;34m(\u001b[0m\u001b[0mx\u001b[0m\u001b[0;34m,\u001b[0m \u001b[0m_values_from_object\u001b[0m\u001b[0;34m(\u001b[0m\u001b[0my\u001b[0m\u001b[0;34m)\u001b[0m\u001b[0;34m)\u001b[0m\u001b[0;34m\u001b[0m\u001b[0m\n\u001b[0m\u001b[1;32m    809\u001b[0m                 \u001b[0;32melse\u001b[0m\u001b[0;34m:\u001b[0m\u001b[0;34m\u001b[0m\u001b[0m\n\u001b[1;32m    810\u001b[0m                     \u001b[0mmask\u001b[0m \u001b[0;34m=\u001b[0m \u001b[0misna\u001b[0m\u001b[0;34m(\u001b[0m\u001b[0mx\u001b[0m\u001b[0;34m)\u001b[0m \u001b[0;34m|\u001b[0m \u001b[0misna\u001b[0m\u001b[0;34m(\u001b[0m\u001b[0my\u001b[0m\u001b[0;34m)\u001b[0m\u001b[0;34m\u001b[0m\u001b[0m\n",
      "\u001b[0;32mpandas/_libs/index.pyx\u001b[0m in \u001b[0;36mpandas._libs.index.convert_scalar\u001b[0;34m()\u001b[0m\n",
      "\u001b[0;32mpandas/_libs/index.pyx\u001b[0m in \u001b[0;36mpandas._libs.index.convert_scalar\u001b[0;34m()\u001b[0m\n",
      "\u001b[0;31mValueError\u001b[0m: cannot set a Timestamp with a non-timestamp"
     ]
    }
   ],
   "source": [
    "amazon.plot_stock()"
   ]
  },
  {
   "cell_type": "code",
   "execution_count": null,
   "metadata": {},
   "outputs": [],
   "source": []
  }
 ],
 "metadata": {
  "kernelspec": {
   "display_name": "Python 2",
   "language": "python",
   "name": "python2"
  },
  "language_info": {
   "codemirror_mode": {
    "name": "ipython",
    "version": 2
   },
   "file_extension": ".py",
   "mimetype": "text/x-python",
   "name": "python",
   "nbconvert_exporter": "python",
   "pygments_lexer": "ipython2",
   "version": "2.7.12"
  }
 },
 "nbformat": 4,
 "nbformat_minor": 2
}
