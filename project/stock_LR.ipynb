{
 "cells": [
  {
   "cell_type": "code",
   "execution_count": 1,
   "metadata": {},
   "outputs": [
    {
     "name": "stderr",
     "output_type": "stream",
     "text": [
      "/usr/local/lib/python2.7/dist-packages/sklearn/cross_validation.py:41: DeprecationWarning: This module was deprecated in version 0.18 in favor of the model_selection module into which all the refactored classes and functions are moved. Also note that the interface of the new CV iterators are different from that of this module. This module will be removed in 0.20.\n",
      "  \"This module will be removed in 0.20.\", DeprecationWarning)\n"
     ]
    }
   ],
   "source": [
    "import numpy as np \n",
    "import pandas as pd\n",
    "import os\n",
    "\n",
    "from sklearn import preprocessing, cross_validation\n",
    "from sklearn.linear_model import LinearRegression"
   ]
  },
  {
   "cell_type": "markdown",
   "metadata": {},
   "source": [
    "### View the data"
   ]
  },
  {
   "cell_type": "code",
   "execution_count": 2,
   "metadata": {},
   "outputs": [
    {
     "data": {
      "text/html": [
       "<div>\n",
       "<style scoped>\n",
       "    .dataframe tbody tr th:only-of-type {\n",
       "        vertical-align: middle;\n",
       "    }\n",
       "\n",
       "    .dataframe tbody tr th {\n",
       "        vertical-align: top;\n",
       "    }\n",
       "\n",
       "    .dataframe thead th {\n",
       "        text-align: right;\n",
       "    }\n",
       "</style>\n",
       "<table border=\"1\" class=\"dataframe\">\n",
       "  <thead>\n",
       "    <tr style=\"text-align: right;\">\n",
       "      <th></th>\n",
       "      <th>日期</th>\n",
       "      <th>股票代码</th>\n",
       "      <th>名称</th>\n",
       "      <th>收盘价</th>\n",
       "      <th>最高价</th>\n",
       "      <th>最低价</th>\n",
       "      <th>开盘价</th>\n",
       "      <th>前收盘</th>\n",
       "      <th>涨跌额</th>\n",
       "      <th>涨跌幅</th>\n",
       "      <th>成交量</th>\n",
       "      <th>成交金额</th>\n",
       "    </tr>\n",
       "  </thead>\n",
       "  <tbody>\n",
       "    <tr>\n",
       "      <th>6678</th>\n",
       "      <td>1990-12-20</td>\n",
       "      <td>'000001</td>\n",
       "      <td>上证指数</td>\n",
       "      <td>104.39</td>\n",
       "      <td>104.39</td>\n",
       "      <td>99.98</td>\n",
       "      <td>104.30</td>\n",
       "      <td>99.98</td>\n",
       "      <td>4.41</td>\n",
       "      <td>4.4109</td>\n",
       "      <td>197</td>\n",
       "      <td>84000.0</td>\n",
       "    </tr>\n",
       "    <tr>\n",
       "      <th>6677</th>\n",
       "      <td>1990-12-21</td>\n",
       "      <td>'000001</td>\n",
       "      <td>上证指数</td>\n",
       "      <td>109.13</td>\n",
       "      <td>109.13</td>\n",
       "      <td>103.73</td>\n",
       "      <td>109.07</td>\n",
       "      <td>104.39</td>\n",
       "      <td>4.74</td>\n",
       "      <td>4.5407</td>\n",
       "      <td>28</td>\n",
       "      <td>16000.0</td>\n",
       "    </tr>\n",
       "    <tr>\n",
       "      <th>6676</th>\n",
       "      <td>1990-12-24</td>\n",
       "      <td>'000001</td>\n",
       "      <td>上证指数</td>\n",
       "      <td>114.55</td>\n",
       "      <td>114.55</td>\n",
       "      <td>109.13</td>\n",
       "      <td>113.57</td>\n",
       "      <td>109.13</td>\n",
       "      <td>5.42</td>\n",
       "      <td>4.9666</td>\n",
       "      <td>32</td>\n",
       "      <td>31000.0</td>\n",
       "    </tr>\n",
       "    <tr>\n",
       "      <th>6675</th>\n",
       "      <td>1990-12-25</td>\n",
       "      <td>'000001</td>\n",
       "      <td>上证指数</td>\n",
       "      <td>120.25</td>\n",
       "      <td>120.25</td>\n",
       "      <td>114.55</td>\n",
       "      <td>120.09</td>\n",
       "      <td>114.55</td>\n",
       "      <td>5.7</td>\n",
       "      <td>4.976</td>\n",
       "      <td>15</td>\n",
       "      <td>6000.0</td>\n",
       "    </tr>\n",
       "    <tr>\n",
       "      <th>6674</th>\n",
       "      <td>1990-12-26</td>\n",
       "      <td>'000001</td>\n",
       "      <td>上证指数</td>\n",
       "      <td>125.27</td>\n",
       "      <td>125.27</td>\n",
       "      <td>120.25</td>\n",
       "      <td>125.27</td>\n",
       "      <td>120.25</td>\n",
       "      <td>5.02</td>\n",
       "      <td>4.1746</td>\n",
       "      <td>100</td>\n",
       "      <td>53000.0</td>\n",
       "    </tr>\n",
       "  </tbody>\n",
       "</table>\n",
       "</div>"
      ],
      "text/plain": [
       "              日期     股票代码    名称     收盘价     最高价     最低价     开盘价     前收盘   涨跌额  \\\n",
       "6678  1990-12-20  '000001  上证指数  104.39  104.39   99.98  104.30   99.98  4.41   \n",
       "6677  1990-12-21  '000001  上证指数  109.13  109.13  103.73  109.07  104.39  4.74   \n",
       "6676  1990-12-24  '000001  上证指数  114.55  114.55  109.13  113.57  109.13  5.42   \n",
       "6675  1990-12-25  '000001  上证指数  120.25  120.25  114.55  120.09  114.55   5.7   \n",
       "6674  1990-12-26  '000001  上证指数  125.27  125.27  120.25  125.27  120.25  5.02   \n",
       "\n",
       "         涨跌幅  成交量     成交金额  \n",
       "6678  4.4109  197  84000.0  \n",
       "6677  4.5407   28  16000.0  \n",
       "6676  4.9666   32  31000.0  \n",
       "6675   4.976   15   6000.0  \n",
       "6674  4.1746  100  53000.0  "
      ]
     },
     "execution_count": 2,
     "metadata": {},
     "output_type": "execute_result"
    }
   ],
   "source": [
    "DATA_PATH = os.path.join('data', 'ShanghaiCompositeIndex.csv')\n",
    "df_original = pd.read_csv(DATA_PATH, encoding='gbk')[:-1]\n",
    "# reverse the data\n",
    "df = df_original.iloc[::-1]\n",
    "df.head()\n",
    "# df.tail()"
   ]
  },
  {
   "cell_type": "markdown",
   "metadata": {},
   "source": [
    "## Data clean  \n",
    "#### 1. Dropping some unnecessary feaures.\n",
    "#### 2. There is a little number of datas equal to 'None', which locates in column '成交金额'.  We just set them as zero, since this number is very small."
   ]
  },
  {
   "cell_type": "code",
   "execution_count": 3,
   "metadata": {},
   "outputs": [
    {
     "data": {
      "text/html": [
       "<div>\n",
       "<style scoped>\n",
       "    .dataframe tbody tr th:only-of-type {\n",
       "        vertical-align: middle;\n",
       "    }\n",
       "\n",
       "    .dataframe tbody tr th {\n",
       "        vertical-align: top;\n",
       "    }\n",
       "\n",
       "    .dataframe thead th {\n",
       "        text-align: right;\n",
       "    }\n",
       "</style>\n",
       "<table border=\"1\" class=\"dataframe\">\n",
       "  <thead>\n",
       "    <tr style=\"text-align: right;\">\n",
       "      <th></th>\n",
       "      <th>收盘价</th>\n",
       "      <th>最高价</th>\n",
       "      <th>最低价</th>\n",
       "      <th>开盘价</th>\n",
       "      <th>成交量</th>\n",
       "      <th>成交金额</th>\n",
       "    </tr>\n",
       "  </thead>\n",
       "  <tbody>\n",
       "    <tr>\n",
       "      <th>6678</th>\n",
       "      <td>104.39</td>\n",
       "      <td>104.39</td>\n",
       "      <td>99.98</td>\n",
       "      <td>104.30</td>\n",
       "      <td>197</td>\n",
       "      <td>84000.0</td>\n",
       "    </tr>\n",
       "    <tr>\n",
       "      <th>6677</th>\n",
       "      <td>109.13</td>\n",
       "      <td>109.13</td>\n",
       "      <td>103.73</td>\n",
       "      <td>109.07</td>\n",
       "      <td>28</td>\n",
       "      <td>16000.0</td>\n",
       "    </tr>\n",
       "    <tr>\n",
       "      <th>6676</th>\n",
       "      <td>114.55</td>\n",
       "      <td>114.55</td>\n",
       "      <td>109.13</td>\n",
       "      <td>113.57</td>\n",
       "      <td>32</td>\n",
       "      <td>31000.0</td>\n",
       "    </tr>\n",
       "    <tr>\n",
       "      <th>6675</th>\n",
       "      <td>120.25</td>\n",
       "      <td>120.25</td>\n",
       "      <td>114.55</td>\n",
       "      <td>120.09</td>\n",
       "      <td>15</td>\n",
       "      <td>6000.0</td>\n",
       "    </tr>\n",
       "    <tr>\n",
       "      <th>6674</th>\n",
       "      <td>125.27</td>\n",
       "      <td>125.27</td>\n",
       "      <td>120.25</td>\n",
       "      <td>125.27</td>\n",
       "      <td>100</td>\n",
       "      <td>53000.0</td>\n",
       "    </tr>\n",
       "  </tbody>\n",
       "</table>\n",
       "</div>"
      ],
      "text/plain": [
       "         收盘价     最高价     最低价     开盘价  成交量     成交金额\n",
       "6678  104.39  104.39   99.98  104.30  197  84000.0\n",
       "6677  109.13  109.13  103.73  109.07   28  16000.0\n",
       "6676  114.55  114.55  109.13  113.57   32  31000.0\n",
       "6675  120.25  120.25  114.55  120.09   15   6000.0\n",
       "6674  125.27  125.27  120.25  125.27  100  53000.0"
      ]
     },
     "execution_count": 3,
     "metadata": {},
     "output_type": "execute_result"
    }
   ],
   "source": [
    "df = df.drop(['日期'.decode('utf-8'), \n",
    "              '股票代码'.decode(\"utf-8\"), \n",
    "              '名称'.decode(\"utf-8\"), \n",
    "              '涨跌额'.decode(\"utf-8\"), \n",
    "              '涨跌幅'.decode(\"utf-8\"), \n",
    "              '前收盘'.decode('utf-8')],axis=1)\n",
    "df = df.replace('None', 0)\n",
    "df.head()"
   ]
  },
  {
   "cell_type": "markdown",
   "metadata": {},
   "source": [
    "### 5 Day Moving Average\n",
    "https://www.investopedia.com/articles/active-trading/052014/how-use-moving-average-buy-stocks.asp\n",
    "##### But in there, we supposed each day has different weight, the price of today may has largest weight, if we forecast the price of tomorrow, intuitively. "
   ]
  },
  {
   "cell_type": "code",
   "execution_count": 4,
   "metadata": {},
   "outputs": [
    {
     "data": {
      "text/html": [
       "<div>\n",
       "<style scoped>\n",
       "    .dataframe tbody tr th:only-of-type {\n",
       "        vertical-align: middle;\n",
       "    }\n",
       "\n",
       "    .dataframe tbody tr th {\n",
       "        vertical-align: top;\n",
       "    }\n",
       "\n",
       "    .dataframe thead th {\n",
       "        text-align: right;\n",
       "    }\n",
       "</style>\n",
       "<table border=\"1\" class=\"dataframe\">\n",
       "  <thead>\n",
       "    <tr style=\"text-align: right;\">\n",
       "      <th></th>\n",
       "      <th>收盘价</th>\n",
       "      <th>最高价1</th>\n",
       "      <th>最低价1</th>\n",
       "      <th>开盘价</th>\n",
       "      <th>成交量</th>\n",
       "      <th>成交金额</th>\n",
       "      <th>收盘价</th>\n",
       "      <th>最高价</th>\n",
       "      <th>最低价</th>\n",
       "      <th>开盘价</th>\n",
       "      <th>...</th>\n",
       "      <th>最低价</th>\n",
       "      <th>开盘价</th>\n",
       "      <th>成交量</th>\n",
       "      <th>成交金额</th>\n",
       "      <th>收盘价</th>\n",
       "      <th>最高价</th>\n",
       "      <th>最低价</th>\n",
       "      <th>开盘价</th>\n",
       "      <th>成交量</th>\n",
       "      <th>成交金额</th>\n",
       "    </tr>\n",
       "  </thead>\n",
       "  <tbody>\n",
       "    <tr>\n",
       "      <th>6673</th>\n",
       "      <td>125.28</td>\n",
       "      <td>125.28</td>\n",
       "      <td>125.27</td>\n",
       "      <td>125.27</td>\n",
       "      <td>66</td>\n",
       "      <td>104000.0</td>\n",
       "      <td>125.27</td>\n",
       "      <td>125.27</td>\n",
       "      <td>120.25</td>\n",
       "      <td>125.27</td>\n",
       "      <td>...</td>\n",
       "      <td>103.73</td>\n",
       "      <td>109.07</td>\n",
       "      <td>28.0</td>\n",
       "      <td>16000.0</td>\n",
       "      <td>104.39</td>\n",
       "      <td>104.39</td>\n",
       "      <td>99.98</td>\n",
       "      <td>104.30</td>\n",
       "      <td>197.0</td>\n",
       "      <td>84000.0</td>\n",
       "    </tr>\n",
       "    <tr>\n",
       "      <th>6672</th>\n",
       "      <td>126.45</td>\n",
       "      <td>126.45</td>\n",
       "      <td>125.28</td>\n",
       "      <td>126.39</td>\n",
       "      <td>108</td>\n",
       "      <td>88000.0</td>\n",
       "      <td>125.28</td>\n",
       "      <td>125.28</td>\n",
       "      <td>125.27</td>\n",
       "      <td>125.27</td>\n",
       "      <td>...</td>\n",
       "      <td>109.13</td>\n",
       "      <td>113.57</td>\n",
       "      <td>32.0</td>\n",
       "      <td>31000.0</td>\n",
       "      <td>109.13</td>\n",
       "      <td>109.13</td>\n",
       "      <td>103.73</td>\n",
       "      <td>109.07</td>\n",
       "      <td>28.0</td>\n",
       "      <td>16000.0</td>\n",
       "    </tr>\n",
       "    <tr>\n",
       "      <th>6671</th>\n",
       "      <td>127.61</td>\n",
       "      <td>127.61</td>\n",
       "      <td>126.48</td>\n",
       "      <td>126.56</td>\n",
       "      <td>78</td>\n",
       "      <td>60000.0</td>\n",
       "      <td>126.45</td>\n",
       "      <td>126.45</td>\n",
       "      <td>125.28</td>\n",
       "      <td>126.39</td>\n",
       "      <td>...</td>\n",
       "      <td>114.55</td>\n",
       "      <td>120.09</td>\n",
       "      <td>15.0</td>\n",
       "      <td>6000.0</td>\n",
       "      <td>114.55</td>\n",
       "      <td>114.55</td>\n",
       "      <td>109.13</td>\n",
       "      <td>113.57</td>\n",
       "      <td>32.0</td>\n",
       "      <td>31000.0</td>\n",
       "    </tr>\n",
       "    <tr>\n",
       "      <th>6670</th>\n",
       "      <td>128.84</td>\n",
       "      <td>128.84</td>\n",
       "      <td>127.61</td>\n",
       "      <td>127.61</td>\n",
       "      <td>91</td>\n",
       "      <td>59000.0</td>\n",
       "      <td>127.61</td>\n",
       "      <td>127.61</td>\n",
       "      <td>126.48</td>\n",
       "      <td>126.56</td>\n",
       "      <td>...</td>\n",
       "      <td>120.25</td>\n",
       "      <td>125.27</td>\n",
       "      <td>100.0</td>\n",
       "      <td>53000.0</td>\n",
       "      <td>120.25</td>\n",
       "      <td>120.25</td>\n",
       "      <td>114.55</td>\n",
       "      <td>120.09</td>\n",
       "      <td>15.0</td>\n",
       "      <td>6000.0</td>\n",
       "    </tr>\n",
       "    <tr>\n",
       "      <th>6669</th>\n",
       "      <td>130.14</td>\n",
       "      <td>130.14</td>\n",
       "      <td>128.84</td>\n",
       "      <td>128.84</td>\n",
       "      <td>141</td>\n",
       "      <td>93000.0</td>\n",
       "      <td>128.84</td>\n",
       "      <td>128.84</td>\n",
       "      <td>127.61</td>\n",
       "      <td>127.61</td>\n",
       "      <td>...</td>\n",
       "      <td>125.27</td>\n",
       "      <td>125.27</td>\n",
       "      <td>66.0</td>\n",
       "      <td>104000.0</td>\n",
       "      <td>125.27</td>\n",
       "      <td>125.27</td>\n",
       "      <td>120.25</td>\n",
       "      <td>125.27</td>\n",
       "      <td>100.0</td>\n",
       "      <td>53000.0</td>\n",
       "    </tr>\n",
       "  </tbody>\n",
       "</table>\n",
       "<p>5 rows × 36 columns</p>\n",
       "</div>"
      ],
      "text/plain": [
       "         收盘价    最高价1    最低价1     开盘价  成交量      成交金额     收盘价     最高价     最低价  \\\n",
       "6673  125.28  125.28  125.27  125.27   66  104000.0  125.27  125.27  120.25   \n",
       "6672  126.45  126.45  125.28  126.39  108   88000.0  125.28  125.28  125.27   \n",
       "6671  127.61  127.61  126.48  126.56   78   60000.0  126.45  126.45  125.28   \n",
       "6670  128.84  128.84  127.61  127.61   91   59000.0  127.61  127.61  126.48   \n",
       "6669  130.14  130.14  128.84  128.84  141   93000.0  128.84  128.84  127.61   \n",
       "\n",
       "         开盘价   ...        最低价     开盘价    成交量      成交金额     收盘价     最高价  \\\n",
       "6673  125.27   ...     103.73  109.07   28.0   16000.0  104.39  104.39   \n",
       "6672  125.27   ...     109.13  113.57   32.0   31000.0  109.13  109.13   \n",
       "6671  126.39   ...     114.55  120.09   15.0    6000.0  114.55  114.55   \n",
       "6670  126.56   ...     120.25  125.27  100.0   53000.0  120.25  120.25   \n",
       "6669  127.61   ...     125.27  125.27   66.0  104000.0  125.27  125.27   \n",
       "\n",
       "         最低价     开盘价    成交量     成交金额  \n",
       "6673   99.98  104.30  197.0  84000.0  \n",
       "6672  103.73  109.07   28.0  16000.0  \n",
       "6671  109.13  113.57   32.0  31000.0  \n",
       "6670  114.55  120.09   15.0   6000.0  \n",
       "6669  120.25  125.27  100.0  53000.0  \n",
       "\n",
       "[5 rows x 36 columns]"
      ]
     },
     "execution_count": 4,
     "metadata": {},
     "output_type": "execute_result"
    }
   ],
   "source": [
    "N = 5\n",
    "df_new = df.copy()\n",
    "for i in range(N):\n",
    "    df_new = pd.concat([df_new, df.shift(i+1)], axis=1)\n",
    "df = df_new[N:]\n",
    "col = list(df.columns)\n",
    "col[1] = '最高价1'.decode('utf-8')\n",
    "col[2] = '最低价1'.decode('utf-8')\n",
    "df.columns = col\n",
    "df.head()"
   ]
  },
  {
   "cell_type": "markdown",
   "metadata": {},
   "source": [
    "### Because we want to forecast the low and high prices(indices) in a week, so set $$forecast\\_out = 5$$"
   ]
  },
  {
   "cell_type": "code",
   "execution_count": 5,
   "metadata": {},
   "outputs": [],
   "source": [
    "forecast_out = 5"
   ]
  },
  {
   "cell_type": "code",
   "execution_count": 6,
   "metadata": {},
   "outputs": [],
   "source": [
    "def forecast(forecast_col, forecast_out):\n",
    "    df['label'] = df[forecast_col].shift(-forecast_out)\n",
    "    X = np.array(df.drop(['label'], axis=1)).astype(np.float32)\n",
    "    # print X\n",
    "    X = preprocessing.scale(X)\n",
    "    X_lately = X[-forecast_out:]\n",
    "    X = X[:-forecast_out]\n",
    "    y = np.array(df['label'])[:-5].astype(np.float32)\n",
    "    print 'X shape and y shape: ', X.shape, y.shape\n",
    "    X_train, X_test, y_train, y_test = cross_validation.train_test_split(X, y, test_size=0.2)\n",
    "    print 'X_train shape and y_train shape: ', X_train.shape, y_train.shape\n",
    "    print 'X_test shape and y_test shape: ', X_test.shape, y_test.shape\n",
    "    clf = LinearRegression(n_jobs=-1)\n",
    "    clf.fit(X_train, y_train)\n",
    "    confidence = clf.score(X_test, y_test)\n",
    "    print 'confidence in test set: ', confidence\n",
    "    print 'Forecasting the high price: \\n'\n",
    "    forecast_set = clf.predict(X_lately)\n",
    "    print forecast_set\n",
    "    y_groundtruth = np.asarray(df_original['最高价'.decode('utf-8')][:5][::-1]).astype(np.float32)\n",
    "    print '\\nThe ground truth is :\\n\\n', list(y_groundtruth)\n",
    "    MSE = 0.2 * np.sqrt(np.sum((np.asarray(forecast_set) - y_groundtruth)**2))\n",
    "    print '\\nThe average of gap for each day is: ', MSE\n",
    "    return forecast_set"
   ]
  },
  {
   "cell_type": "markdown",
   "metadata": {},
   "source": [
    "# Forecasting the high price"
   ]
  },
  {
   "cell_type": "code",
   "execution_count": 7,
   "metadata": {},
   "outputs": [
    {
     "name": "stdout",
     "output_type": "stream",
     "text": [
      "X shape and y shape:  (6669, 36) (6669,)\n",
      "X_train shape and y_train shape:  (5335, 36) (5335,)\n",
      "X_test shape and y_test shape:  (1334, 36) (1334,)\n",
      "confidence in test set:  0.9922056232584354\n",
      "Forecasting the high price: \n",
      "\n",
      "[3154.1753 3224.3228 3234.1099 3202.524  3183.0044]\n",
      "\n",
      "The ground truth is :\n",
      "\n",
      "[3146.0925, 3190.6492, 3220.8452, 3205.2522, 3197.896]\n",
      "\n",
      "The average of gap for each day is:  8.010980987548828\n"
     ]
    },
    {
     "name": "stderr",
     "output_type": "stream",
     "text": [
      "/usr/local/lib/python2.7/dist-packages/ipykernel_launcher.py:2: SettingWithCopyWarning: \n",
      "A value is trying to be set on a copy of a slice from a DataFrame.\n",
      "Try using .loc[row_indexer,col_indexer] = value instead\n",
      "\n",
      "See the caveats in the documentation: http://pandas.pydata.org/pandas-docs/stable/indexing.html#indexing-view-versus-copy\n",
      "  \n",
      "/usr/local/lib/python2.7/dist-packages/sklearn/preprocessing/data.py:164: UserWarning: Numerical issues were encountered when centering the data and might not be solved. Dataset may contain too large values. You may need to prescale your features.\n",
      "  warnings.warn(\"Numerical issues were encountered \"\n",
      "/usr/local/lib/python2.7/dist-packages/sklearn/preprocessing/data.py:181: UserWarning: Numerical issues were encountered when scaling the data and might not be solved. The standard deviation of the data is probably very close to 0. \n",
      "  warnings.warn(\"Numerical issues were encountered \"\n"
     ]
    }
   ],
   "source": [
    "forecast_col_high = '最高价1'.decode('utf-8')\n",
    "forecast_high = forecast(forecast_col_high, forecast_out)"
   ]
  },
  {
   "cell_type": "markdown",
   "metadata": {},
   "source": [
    "# Forecasting the low price"
   ]
  },
  {
   "cell_type": "code",
   "execution_count": 8,
   "metadata": {},
   "outputs": [
    {
     "name": "stdout",
     "output_type": "stream",
     "text": [
      "X shape and y shape:  (6669, 36) (6669,)\n",
      "X_train shape and y_train shape:  (5335, 36) (5335,)\n",
      "X_test shape and y_test shape:  (1334, 36) (1334,)\n",
      "confidence in test set:  0.9924429891432935\n",
      "Forecasting the high price: \n",
      "\n",
      "[3111.5835 3160.5635 3183.5469 3150.9846 3130.7825]\n",
      "\n",
      "The ground truth is :\n",
      "\n",
      "[3146.0925, 3190.6492, 3220.8452, 3205.2522, 3197.896]\n",
      "\n",
      "The average of gap for each day is:  20.915432739257813\n"
     ]
    },
    {
     "name": "stderr",
     "output_type": "stream",
     "text": [
      "/usr/local/lib/python2.7/dist-packages/ipykernel_launcher.py:2: SettingWithCopyWarning: \n",
      "A value is trying to be set on a copy of a slice from a DataFrame.\n",
      "Try using .loc[row_indexer,col_indexer] = value instead\n",
      "\n",
      "See the caveats in the documentation: http://pandas.pydata.org/pandas-docs/stable/indexing.html#indexing-view-versus-copy\n",
      "  \n"
     ]
    }
   ],
   "source": [
    "forecast_col_low = '最低价1'.decode('utf-8')\n",
    "forecast_low = forecast(forecast_col_low, forecast_out)"
   ]
  },
  {
   "cell_type": "markdown",
   "metadata": {},
   "source": [
    "### Checking whether high prices are larger than low prices"
   ]
  },
  {
   "cell_type": "code",
   "execution_count": 9,
   "metadata": {},
   "outputs": [
    {
     "name": "stdout",
     "output_type": "stream",
     "text": [
      "forecast_high - forecast_low: \n",
      "[42.591797, 63.759277, 50.56299, 51.539307, 52.221924]\n"
     ]
    }
   ],
   "source": [
    "print 'forecast_high - forecast_low: \\n', [forecast_high[i]-forecast_low[i] for i in range(5)]"
   ]
  },
  {
   "cell_type": "code",
   "execution_count": 61,
   "metadata": {},
   "outputs": [
    {
     "name": "stdout",
     "output_type": "stream",
     "text": [
      "最低价\n",
      "[3106.521  3167.253  3184.285  3145.8984 3128.2612]\n",
      "最高价\n",
      "[3159.8875 3224.8262 3229.0786 3202.6182 3187.1047]\n"
     ]
    }
   ],
   "source": [
    "print '最低价\\n', forecast_low\n",
    "print '最高价\\n', forecast_high"
   ]
  },
  {
   "cell_type": "code",
   "execution_count": null,
   "metadata": {},
   "outputs": [],
   "source": []
  }
 ],
 "metadata": {
  "kernelspec": {
   "display_name": "Python 2",
   "language": "python",
   "name": "python2"
  },
  "language_info": {
   "codemirror_mode": {
    "name": "ipython",
    "version": 2
   },
   "file_extension": ".py",
   "mimetype": "text/x-python",
   "name": "python",
   "nbconvert_exporter": "python",
   "pygments_lexer": "ipython2",
   "version": "2.7.12"
  }
 },
 "nbformat": 4,
 "nbformat_minor": 2
}
