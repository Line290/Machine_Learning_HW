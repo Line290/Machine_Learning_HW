{
 "cells": [
  {
   "cell_type": "code",
   "execution_count": 1,
   "metadata": {},
   "outputs": [
    {
     "name": "stderr",
     "output_type": "stream",
     "text": [
      "/usr/local/lib/python2.7/dist-packages/sklearn/cross_validation.py:41: DeprecationWarning: This module was deprecated in version 0.18 in favor of the model_selection module into which all the refactored classes and functions are moved. Also note that the interface of the new CV iterators are different from that of this module. This module will be removed in 0.20.\n",
      "  \"This module will be removed in 0.20.\", DeprecationWarning)\n"
     ]
    }
   ],
   "source": [
    "import pandas as pd\n",
    "from sklearn.cross_validation import KFold\n",
    "import numpy as np\n",
    "import matplotlib.pyplot as plt\n",
    "# from sklearn.ensemble import RandomForestClassifier, AdaBoostClassifier, BaggingClassifier, ExtraTreesClassifier, GradientBoostingClassifier\n",
    "from sklearn.linear_model import LinearRegression\n",
    "import sklearn.ensemble\n",
    "\n",
    "N_ESTIMATORS = 100\n",
    "\n",
    "IGNORE_LIST = ['id', 'profit', 'responded', 'pmonths']\n",
    "CUTOFF = 0.5\n",
    "\n",
    "def k_split(df, k):\n",
    "    \"\"\"\n",
    "    Split the training.csv set into k-folds, stored as a train, test dictionaries\n",
    "    \"\"\"\n",
    "    train = {}\n",
    "    test = {}\n",
    "    kf = KFold(len(df), k, shuffle=True)\n",
    "    i = 0\n",
    "    for train_index, test_index in kf:\n",
    "        train[i] = df.ix[train_index]\n",
    "        test[i] = df.ix[test_index]\n",
    "        i += 1\n",
    "    return train, test\n",
    "\n",
    "\n",
    "def refactor(df):\n",
    "    \"\"\"\n",
    "    Make non-numerical data fields numerical with int factors\n",
    "    Save the factor definitions in a dictionary for later\n",
    "    \"\"\"\n",
    "    factors = {}\n",
    "    for c in df.columns:\n",
    "        if df[c].dtype not in [float, int]:\n",
    "            factors[c] = {}\n",
    "            i = 0\n",
    "            for f in df[c].dropna().unique():\n",
    "                factors[c][f] = i\n",
    "                i += 1\n",
    "    for c, d in factors.iteritems():\n",
    "        for k, v in d.iteritems():\n",
    "            df.ix[df[c] == k, c] = int(v)\n",
    "    return df, factors\n",
    "\n",
    "\n",
    "def rf_predict(train, test, col, n=100, prob=False, ignore_list=['id', 'profit', 'responded', 'pmonths'], classifier='AdaBoostClassifier'):\n",
    "    \"\"\"\n",
    "    If you just want it to predict the field, leave prob=False. If you want the probability of 1 vs. 0, make it True.\n",
    "    Don't fit on fields that still have nulls in them (or that are chosen to be ignored)\n",
    "    Output the estimates for col in the test dataframe.\n",
    "    classifier: RandomForestClassifier, AdaBoostClassifier, BaggingClassifier, ExtraTreesClassifier, GradientBoostingClassifier\n",
    "    \"\"\"\n",
    "    if prob:\n",
    "        not_fit = ignore_list\n",
    "        not_fit.extend(train.columns[train.isnull().sum() > 0])\n",
    "        not_fit.extend(test.columns[test.isnull().sum() > 0])\n",
    "        not_fit.append(col)\n",
    "        not_fit = set(not_fit)\n",
    "        forest = getattr(sklearn.ensemble, classifier)(n_estimators=n)\n",
    "        forest = forest.fit(train[[c for c in train.columns if c not in not_fit]], train[col])\n",
    "        output = [x[1] for x in forest.predict_proba(test[[c for c in test.columns if c not in not_fit]])]\n",
    "    else:\n",
    "        not_fit = ignore_list\n",
    "        not_fit.extend(train.columns[train.isnull().sum() > 0])\n",
    "        not_fit.extend(test.columns[test.isnull().sum() > 0])\n",
    "        not_fit.append(col)\n",
    "        not_fit = set(not_fit)\n",
    "        forest = getattr(sklearn.ensemble, classifier)(n_estimators=n)\n",
    "        forest = forest.fit(train[[c for c in train.columns if c not in not_fit]], train[col].values.astype(np.int32))\n",
    "        output = forest.predict(test[[c for c in test.columns if c not in not_fit]])\n",
    "\n",
    "    return output, forest\n",
    "\n",
    "\n",
    "def fill_in_nan(df, col, n=100, classifier='AdaBoostClassifier'):\n",
    "    \"\"\"\n",
    "    Use the rf_predict with prob=False to guess what missing values are.\n",
    "    \"\"\"\n",
    "    if df[col].isnull().any() == False:\n",
    "        return df\n",
    "    else:\n",
    "        output, forest = rf_predict(df[df[col].notnull()], df[df[col].isnull()], col, n, False, classifier = classifier)\n",
    "        df.ix[df[col].isnull(), col] = output\n",
    "        return df\n",
    "\n",
    "\n",
    "def calc_profit(test, prediction, cutoff):\n",
    "    \"\"\"\n",
    "    Use the profit function given to calculate profits for a certain cutoff on forest.predict_proba.\n",
    "    This is what is to be optimized vs. cutoff choice.\n",
    "    \"\"\"\n",
    "    test['prediction'] = prediction\n",
    "    test.ix[test['profit'].isnull(), 'profit'] = -30\n",
    "    return sum(test.ix[test['prediction'] >= cutoff, 'profit'])"
   ]
  },
  {
   "cell_type": "markdown",
   "metadata": {},
   "source": [
    "### Choose model"
   ]
  },
  {
   "cell_type": "code",
   "execution_count": 2,
   "metadata": {},
   "outputs": [
    {
     "name": "stdout",
     "output_type": "stream",
     "text": [
      "###################   RandomForestClassifier   ##########\n",
      "The shape of training and test dataset  (6509, 24) (1628, 24)\n"
     ]
    },
    {
     "name": "stderr",
     "output_type": "stream",
     "text": [
      "/usr/local/lib/python2.7/dist-packages/ipykernel_launcher.py:23: DeprecationWarning: \n",
      ".ix is deprecated. Please use\n",
      ".loc for label based indexing or\n",
      ".iloc for positional indexing\n",
      "\n",
      "See the documentation here:\n",
      "http://pandas.pydata.org/pandas-docs/stable/indexing.html#ix-indexer-is-deprecated\n",
      "/usr/local/lib/python2.7/dist-packages/ipykernel_launcher.py:44: DeprecationWarning: \n",
      ".ix is deprecated. Please use\n",
      ".loc for label based indexing or\n",
      ".iloc for positional indexing\n",
      "\n",
      "See the documentation here:\n",
      "http://pandas.pydata.org/pandas-docs/stable/indexing.html#ix-indexer-is-deprecated\n"
     ]
    },
    {
     "name": "stdout",
     "output_type": "stream",
     "text": [
      "Deal with imbalanced sample, resample the minority class  (12359, 24)\n"
     ]
    },
    {
     "name": "stderr",
     "output_type": "stream",
     "text": [
      "/usr/local/lib/python2.7/dist-packages/ipykernel_launcher.py:42: SettingWithCopyWarning: \n",
      "A value is trying to be set on a copy of a slice from a DataFrame\n",
      "\n",
      "See the caveats in the documentation: http://pandas.pydata.org/pandas-docs/stable/indexing.html#indexing-view-versus-copy\n",
      "/usr/local/lib/python2.7/dist-packages/ipykernel_launcher.py:43: SettingWithCopyWarning: \n",
      "A value is trying to be set on a copy of a slice from a DataFrame\n",
      "\n",
      "See the caveats in the documentation: http://pandas.pydata.org/pandas-docs/stable/indexing.html#indexing-view-versus-copy\n"
     ]
    },
    {
     "name": "stdout",
     "output_type": "stream",
     "text": [
      "roc auc score original:  0.7566474708656022\n",
      "Best cutoff:  0.23\n",
      "Best profit:  14991.0\n",
      "Accuracy:  0.8433660933660934\n",
      "roc auc score:  0.733550210842318\n",
      "###################   AdaBoostClassifier   ##########\n",
      "The shape of training and test dataset  (6509, 24) (1628, 24)\n",
      "Deal with imbalanced sample, resample the minority class  (11797, 24)\n",
      "roc auc score original:  0.7885364989369242\n",
      "Best cutoff:  0.5\n",
      "Best profit:  13341.0\n",
      "Accuracy:  0.7794840294840295\n",
      "roc auc score:  0.7330402320636856\n",
      "###################   BaggingClassifier   ##########\n",
      "The shape of training and test dataset  (6509, 24) (1628, 24)\n",
      "Deal with imbalanced sample, resample the minority class  (11901, 24)\n",
      "roc auc score original:  0.7544920793176028\n",
      "Best cutoff:  0.37\n",
      "Best profit:  11940.0\n",
      "Accuracy:  0.8931203931203932\n",
      "roc auc score:  0.7008397031128837\n",
      "###################   ExtraTreesClassifier   ##########\n",
      "The shape of training and test dataset  (6509, 24) (1628, 24)\n",
      "Deal with imbalanced sample, resample the minority class  (12296, 24)\n",
      "roc auc score original:  0.7332214259906058\n",
      "Best cutoff:  0.18\n",
      "Best profit:  11601.0\n",
      "Accuracy:  0.8396805896805897\n",
      "roc auc score:  0.6772552089606166\n",
      "###################   GradientBoostingClassifier   ##########\n",
      "The shape of training and test dataset  (6509, 24) (1628, 24)\n",
      "Deal with imbalanced sample, resample the minority class  (11813, 24)\n",
      "roc auc score original:  0.7779325769692123\n",
      "Best cutoff:  0.59\n",
      "Best profit:  17016.0\n",
      "Accuracy:  0.8531941031941032\n",
      "roc auc score:  0.7505247900839664\n"
     ]
    }
   ],
   "source": [
    "models = ['RandomForestClassifier', \n",
    "         'AdaBoostClassifier', \n",
    "         'BaggingClassifier',\n",
    "         'ExtraTreesClassifier', \n",
    "         'GradientBoostingClassifier']\n",
    "\n",
    "for model in models:\n",
    "    print \"###################   {}   ##########\".format(model)\n",
    "    N_ESTIMATORS = 100\n",
    "    \n",
    "    df_original = pd.read_csv('data/DataTraining.csv')\n",
    "    df = df_original.copy()\n",
    "    df = df.replace(\"unknown\", np.nan)\n",
    "    # split the dataset, use 20% data to validate\n",
    "    train_, test = k_split(df, 5)\n",
    "    train_ = train_[0]\n",
    "    test = test[0]\n",
    "    print 'The shape of training and test dataset ',train_.shape, test.shape\n",
    "    # resample the training data where responded is 'yes'.\n",
    "    train_N = train_.loc[train_.responded == 'yes']\n",
    "    train_N_e = pd.concat([train_N]*((len(train_)-len(train_N))/len(train_N)), ignore_index=True)\n",
    "    train = pd.concat([train_, train_N_e], ignore_index=True)\n",
    "    train, train_factors = refactor(train)\n",
    "    test, test_factors = refactor(test)\n",
    "    print 'Deal with imbalanced sample, resample the minority class ', train.shape\n",
    "    \n",
    "    # Using the existance data to predict the missing data except the 'default' column.\n",
    "    train = fill_in_nan(train, 'profession', N_ESTIMATORS, model)\n",
    "    train = fill_in_nan(train, 'marital', N_ESTIMATORS, model)\n",
    "    train = fill_in_nan(train, 'loan', N_ESTIMATORS, model)\n",
    "    train = fill_in_nan(train, 'housing', N_ESTIMATORS, model)\n",
    "    train = fill_in_nan(train, 'day_of_week', N_ESTIMATORS, model)\n",
    "    train = fill_in_nan(train, 'schooling', N_ESTIMATORS, model)\n",
    "    train = fill_in_nan(train, 'custAge', N_ESTIMATORS, model)\n",
    "    test = fill_in_nan(test, 'day_of_week', N_ESTIMATORS, model)\n",
    "    test = fill_in_nan(test, 'schooling', N_ESTIMATORS, model)\n",
    "    test = fill_in_nan(test, 'custAge', N_ESTIMATORS, model)\n",
    "    test = fill_in_nan(test, 'housing', N_ESTIMATORS, model)\n",
    "    test = fill_in_nan(test, 'profession', N_ESTIMATORS, model)\n",
    "    test = fill_in_nan(test, 'marital', N_ESTIMATORS, model)\n",
    "    test = fill_in_nan(test, 'loan', N_ESTIMATORS, model)\n",
    "    train.default[train.default.isna()] = 1\n",
    "    test.default[test.default.isna()] = 1\n",
    "    \n",
    "    prediction, forest = rf_predict(train, test, \n",
    "                                    'responded', \n",
    "                                    N_ESTIMATORS, \n",
    "                                    prob=True, \n",
    "                                    ignore_list=['id', 'profit', 'responded', 'pmonths'], \n",
    "                                    classifier = model)\n",
    "\n",
    "    ground_truth = test['responded'].values.astype(np.int32)\n",
    "\n",
    "\n",
    "    from sklearn.metrics import roc_auc_score\n",
    "    print \"roc auc score original: \",roc_auc_score(ground_truth, prediction)\n",
    "\n",
    "    max_profit = -1000\n",
    "    cutoff = -1\n",
    "    for i in np.linspace(0, 1, 101):\n",
    "        profit = calc_profit(test, prediction, i)\n",
    "        if profit > max_profit:\n",
    "            max_profit = profit\n",
    "            cutoff = i\n",
    "#         print '{} : {}'.format(i, profit)\n",
    "    print \"Best cutoff: \", cutoff\n",
    "    print \"Best profit: \", max_profit\n",
    "    pred = (np.asarray(prediction)>cutoff)*1\n",
    "    print \"Accuracy: \",np.mean(pred == ground_truth)\n",
    "    print \"roc auc score: \",roc_auc_score(ground_truth, pred)"
   ]
  },
  {
   "cell_type": "markdown",
   "metadata": {},
   "source": [
    "## Best model is GradientBoostingClassifier\n",
    "#### If use AdaBoostClassifier, the responded probability doesn't reasonable, they almost close to 0.5, even though it has highest performance.   And we want to maximize the profit, so we chose GradientBoostingClassifier.  It has more reasonable probability distribution.\n",
    "##### see more details in below"
   ]
  },
  {
   "cell_type": "code",
   "execution_count": 3,
   "metadata": {},
   "outputs": [],
   "source": [
    "model = 'GradientBoostingClassifier'\n",
    "# In experiment N_ESTIMATORS equal to 100 or 500 or 1000, have the similar performance\n",
    "N_ESTIMATORS = 100\n",
    "TRAIN_PATH = 'data/DataTraining.csv'\n",
    "TEST_PATH = 'data/DataPredict.csv'\n",
    "CUTOFF = cutoff"
   ]
  },
  {
   "cell_type": "markdown",
   "metadata": {},
   "source": [
    "### Data clean\n",
    "###### Using the existance data to predict the missing data except the 'default' column.  \n",
    "###### In there, we suppose 'unknown' in 'default' is a variable, because the 'default' column just has 'no' and 'unknown'."
   ]
  },
  {
   "cell_type": "code",
   "execution_count": 5,
   "metadata": {},
   "outputs": [
    {
     "name": "stderr",
     "output_type": "stream",
     "text": [
      "/usr/local/lib/python2.7/dist-packages/ipykernel_launcher.py:44: DeprecationWarning: \n",
      ".ix is deprecated. Please use\n",
      ".loc for label based indexing or\n",
      ".iloc for positional indexing\n",
      "\n",
      "See the documentation here:\n",
      "http://pandas.pydata.org/pandas-docs/stable/indexing.html#ix-indexer-is-deprecated\n",
      "/usr/local/lib/python2.7/dist-packages/ipykernel_launcher.py:12: SettingWithCopyWarning: \n",
      "A value is trying to be set on a copy of a slice from a DataFrame\n",
      "\n",
      "See the caveats in the documentation: http://pandas.pydata.org/pandas-docs/stable/indexing.html#indexing-view-versus-copy\n",
      "  if sys.path[0] == '':\n"
     ]
    },
    {
     "data": {
      "text/html": [
       "<div>\n",
       "<style scoped>\n",
       "    .dataframe tbody tr th:only-of-type {\n",
       "        vertical-align: middle;\n",
       "    }\n",
       "\n",
       "    .dataframe tbody tr th {\n",
       "        vertical-align: top;\n",
       "    }\n",
       "\n",
       "    .dataframe thead th {\n",
       "        text-align: right;\n",
       "    }\n",
       "</style>\n",
       "<table border=\"1\" class=\"dataframe\">\n",
       "  <thead>\n",
       "    <tr style=\"text-align: right;\">\n",
       "      <th></th>\n",
       "      <th>custAge</th>\n",
       "      <th>profession</th>\n",
       "      <th>marital</th>\n",
       "      <th>schooling</th>\n",
       "      <th>default</th>\n",
       "      <th>housing</th>\n",
       "      <th>loan</th>\n",
       "      <th>contact</th>\n",
       "      <th>month</th>\n",
       "      <th>day_of_week</th>\n",
       "      <th>...</th>\n",
       "      <th>emp.var.rate</th>\n",
       "      <th>cons.price.idx</th>\n",
       "      <th>cons.conf.idx</th>\n",
       "      <th>euribor3m</th>\n",
       "      <th>nr.employed</th>\n",
       "      <th>pmonths</th>\n",
       "      <th>pastEmail</th>\n",
       "      <th>responded</th>\n",
       "      <th>profit</th>\n",
       "      <th>id</th>\n",
       "    </tr>\n",
       "  </thead>\n",
       "  <tbody>\n",
       "    <tr>\n",
       "      <th>7310</th>\n",
       "      <td>37.0</td>\n",
       "      <td>4</td>\n",
       "      <td>2</td>\n",
       "      <td>2</td>\n",
       "      <td>0</td>\n",
       "      <td>1</td>\n",
       "      <td>1</td>\n",
       "      <td>0</td>\n",
       "      <td>4</td>\n",
       "      <td>3</td>\n",
       "      <td>...</td>\n",
       "      <td>1.4</td>\n",
       "      <td>93.444</td>\n",
       "      <td>-36.1</td>\n",
       "      <td>4.964</td>\n",
       "      <td>5228.1</td>\n",
       "      <td>999.0</td>\n",
       "      <td>0</td>\n",
       "      <td>1</td>\n",
       "      <td>154.0</td>\n",
       "      <td>7311</td>\n",
       "    </tr>\n",
       "    <tr>\n",
       "      <th>7311</th>\n",
       "      <td>56.0</td>\n",
       "      <td>10</td>\n",
       "      <td>1</td>\n",
       "      <td>0</td>\n",
       "      <td>0</td>\n",
       "      <td>0</td>\n",
       "      <td>0</td>\n",
       "      <td>0</td>\n",
       "      <td>6</td>\n",
       "      <td>3</td>\n",
       "      <td>...</td>\n",
       "      <td>-3.4</td>\n",
       "      <td>92.649</td>\n",
       "      <td>-30.1</td>\n",
       "      <td>0.716</td>\n",
       "      <td>5017.5</td>\n",
       "      <td>0.1</td>\n",
       "      <td>1</td>\n",
       "      <td>1</td>\n",
       "      <td>464.0</td>\n",
       "      <td>7312</td>\n",
       "    </tr>\n",
       "    <tr>\n",
       "      <th>7312</th>\n",
       "      <td>57.0</td>\n",
       "      <td>2</td>\n",
       "      <td>2</td>\n",
       "      <td>1</td>\n",
       "      <td>1</td>\n",
       "      <td>0</td>\n",
       "      <td>1</td>\n",
       "      <td>1</td>\n",
       "      <td>2</td>\n",
       "      <td>0</td>\n",
       "      <td>...</td>\n",
       "      <td>1.4</td>\n",
       "      <td>94.465</td>\n",
       "      <td>-41.8</td>\n",
       "      <td>4.959</td>\n",
       "      <td>5228.1</td>\n",
       "      <td>999.0</td>\n",
       "      <td>0</td>\n",
       "      <td>1</td>\n",
       "      <td>-205.0</td>\n",
       "      <td>7313</td>\n",
       "    </tr>\n",
       "    <tr>\n",
       "      <th>7313</th>\n",
       "      <td>27.0</td>\n",
       "      <td>0</td>\n",
       "      <td>2</td>\n",
       "      <td>1</td>\n",
       "      <td>0</td>\n",
       "      <td>1</td>\n",
       "      <td>1</td>\n",
       "      <td>0</td>\n",
       "      <td>3</td>\n",
       "      <td>0</td>\n",
       "      <td>...</td>\n",
       "      <td>-1.1</td>\n",
       "      <td>94.601</td>\n",
       "      <td>-49.5</td>\n",
       "      <td>0.972</td>\n",
       "      <td>4963.6</td>\n",
       "      <td>999.0</td>\n",
       "      <td>3</td>\n",
       "      <td>1</td>\n",
       "      <td>146.0</td>\n",
       "      <td>7314</td>\n",
       "    </tr>\n",
       "    <tr>\n",
       "      <th>7314</th>\n",
       "      <td>53.0</td>\n",
       "      <td>4</td>\n",
       "      <td>2</td>\n",
       "      <td>1</td>\n",
       "      <td>0</td>\n",
       "      <td>1</td>\n",
       "      <td>1</td>\n",
       "      <td>0</td>\n",
       "      <td>7</td>\n",
       "      <td>2</td>\n",
       "      <td>...</td>\n",
       "      <td>-1.8</td>\n",
       "      <td>93.369</td>\n",
       "      <td>-34.8</td>\n",
       "      <td>0.655</td>\n",
       "      <td>5008.7</td>\n",
       "      <td>999.0</td>\n",
       "      <td>0</td>\n",
       "      <td>1</td>\n",
       "      <td>151.0</td>\n",
       "      <td>7315</td>\n",
       "    </tr>\n",
       "  </tbody>\n",
       "</table>\n",
       "<p>5 rows × 24 columns</p>\n",
       "</div>"
      ],
      "text/plain": [
       "      custAge  profession  marital  schooling default  housing  loan  contact  \\\n",
       "7310     37.0           4        2          2       0        1     1        0   \n",
       "7311     56.0          10        1          0       0        0     0        0   \n",
       "7312     57.0           2        2          1       1        0     1        1   \n",
       "7313     27.0           0        2          1       0        1     1        0   \n",
       "7314     53.0           4        2          1       0        1     1        0   \n",
       "\n",
       "      month  day_of_week  ...   emp.var.rate  cons.price.idx  cons.conf.idx  \\\n",
       "7310      4            3  ...            1.4          93.444          -36.1   \n",
       "7311      6            3  ...           -3.4          92.649          -30.1   \n",
       "7312      2            0  ...            1.4          94.465          -41.8   \n",
       "7313      3            0  ...           -1.1          94.601          -49.5   \n",
       "7314      7            2  ...           -1.8          93.369          -34.8   \n",
       "\n",
       "      euribor3m  nr.employed  pmonths  pastEmail  responded  profit    id  \n",
       "7310      4.964       5228.1    999.0          0          1   154.0  7311  \n",
       "7311      0.716       5017.5      0.1          1          1   464.0  7312  \n",
       "7312      4.959       5228.1    999.0          0          1  -205.0  7313  \n",
       "7313      0.972       4963.6    999.0          3          1   146.0  7314  \n",
       "7314      0.655       5008.7    999.0          0          1   151.0  7315  \n",
       "\n",
       "[5 rows x 24 columns]"
      ]
     },
     "execution_count": 5,
     "metadata": {},
     "output_type": "execute_result"
    }
   ],
   "source": [
    "train = pd.read_csv(TRAIN_PATH)\n",
    "train = train.replace(\"unknown\", np.nan)\n",
    "train, train_factors = refactor(train)\n",
    "train = fill_in_nan(train, 'profession', N_ESTIMATORS, model)\n",
    "train = fill_in_nan(train, 'marital', N_ESTIMATORS, model)\n",
    "train = fill_in_nan(train, 'loan', N_ESTIMATORS, model)\n",
    "train = fill_in_nan(train, 'housing', N_ESTIMATORS, model)\n",
    "train = fill_in_nan(train, 'day_of_week', N_ESTIMATORS, model)\n",
    "train = fill_in_nan(train, 'schooling', N_ESTIMATORS, model)\n",
    "train = fill_in_nan(train, 'custAge', N_ESTIMATORS, model)\n",
    "# train = fill_in_nan(train, 'default', N_ESTIMATORS, model)\n",
    "train.default[train.default.isna()] = 1\n",
    "    \n",
    "train[train.profit.isna()==False].head()"
   ]
  },
  {
   "cell_type": "markdown",
   "metadata": {},
   "source": [
    "### Creating a linear regression function to predict the profit for the responded people.\n",
    "##### Getting training set"
   ]
  },
  {
   "cell_type": "code",
   "execution_count": 6,
   "metadata": {
    "scrolled": true
   },
   "outputs": [
    {
     "name": "stdout",
     "output_type": "stream",
     "text": [
      "(827, 21) (827,)\n"
     ]
    }
   ],
   "source": [
    "train_ls = train[train.profit.isna()==False]\n",
    "X_train = train_ls.values.astype(np.float)[:, :-3]\n",
    "y_train = train_ls.values.astype(np.float)[:, -2]\n",
    "print X_train.shape, y_train.shape"
   ]
  },
  {
   "cell_type": "markdown",
   "metadata": {},
   "source": [
    "##### Checking all entries are not equal to np.nan "
   ]
  },
  {
   "cell_type": "code",
   "execution_count": 7,
   "metadata": {},
   "outputs": [
    {
     "data": {
      "text/plain": [
       "array([], shape=(0, 2), dtype=int64)"
      ]
     },
     "execution_count": 7,
     "metadata": {},
     "output_type": "execute_result"
    }
   ],
   "source": [
    "np.argwhere(np.isnan(X_train)==True)"
   ]
  },
  {
   "cell_type": "code",
   "execution_count": 8,
   "metadata": {},
   "outputs": [
    {
     "name": "stdout",
     "output_type": "stream",
     "text": [
      "0.771199153853492\n"
     ]
    }
   ],
   "source": [
    "regr = LinearRegression()\n",
    "regr.fit(X_train, y_train)\n",
    "\n",
    "y_p = regr.predict(X_train)\n",
    "from sklearn.metrics import mean_squared_error, r2_score\n",
    "r2 = r2_score(y_p, y_train)\n",
    "print r2"
   ]
  },
  {
   "cell_type": "markdown",
   "metadata": {},
   "source": [
    "### Predict responded"
   ]
  },
  {
   "cell_type": "code",
   "execution_count": 9,
   "metadata": {
    "scrolled": true
   },
   "outputs": [
    {
     "data": {
      "text/html": [
       "<div>\n",
       "<style scoped>\n",
       "    .dataframe tbody tr th:only-of-type {\n",
       "        vertical-align: middle;\n",
       "    }\n",
       "\n",
       "    .dataframe tbody tr th {\n",
       "        vertical-align: top;\n",
       "    }\n",
       "\n",
       "    .dataframe thead th {\n",
       "        text-align: right;\n",
       "    }\n",
       "</style>\n",
       "<table border=\"1\" class=\"dataframe\">\n",
       "  <thead>\n",
       "    <tr style=\"text-align: right;\">\n",
       "      <th></th>\n",
       "      <th>custAge</th>\n",
       "      <th>profession</th>\n",
       "      <th>marital</th>\n",
       "      <th>schooling</th>\n",
       "      <th>default</th>\n",
       "      <th>housing</th>\n",
       "      <th>loan</th>\n",
       "      <th>contact</th>\n",
       "      <th>month</th>\n",
       "      <th>day_of_week</th>\n",
       "      <th>...</th>\n",
       "      <th>pdays</th>\n",
       "      <th>previous</th>\n",
       "      <th>poutcome</th>\n",
       "      <th>emp.var.rate</th>\n",
       "      <th>cons.price.idx</th>\n",
       "      <th>cons.conf.idx</th>\n",
       "      <th>euribor3m</th>\n",
       "      <th>nr.employed</th>\n",
       "      <th>pmonths</th>\n",
       "      <th>pastEmail</th>\n",
       "    </tr>\n",
       "  </thead>\n",
       "  <tbody>\n",
       "    <tr>\n",
       "      <th>0</th>\n",
       "      <td>31.0</td>\n",
       "      <td>services</td>\n",
       "      <td>single</td>\n",
       "      <td>high.school</td>\n",
       "      <td>no</td>\n",
       "      <td>no</td>\n",
       "      <td>no</td>\n",
       "      <td>cellular</td>\n",
       "      <td>jul</td>\n",
       "      <td>thu</td>\n",
       "      <td>...</td>\n",
       "      <td>999</td>\n",
       "      <td>0</td>\n",
       "      <td>nonexistent</td>\n",
       "      <td>1.4</td>\n",
       "      <td>93.918</td>\n",
       "      <td>-42.7</td>\n",
       "      <td>4.968</td>\n",
       "      <td>5228.1</td>\n",
       "      <td>999.0</td>\n",
       "      <td>0</td>\n",
       "    </tr>\n",
       "    <tr>\n",
       "      <th>1</th>\n",
       "      <td>32.0</td>\n",
       "      <td>services</td>\n",
       "      <td>married</td>\n",
       "      <td>basic.4y</td>\n",
       "      <td>no</td>\n",
       "      <td>no</td>\n",
       "      <td>no</td>\n",
       "      <td>cellular</td>\n",
       "      <td>nov</td>\n",
       "      <td>mon</td>\n",
       "      <td>...</td>\n",
       "      <td>999</td>\n",
       "      <td>0</td>\n",
       "      <td>nonexistent</td>\n",
       "      <td>-0.1</td>\n",
       "      <td>93.200</td>\n",
       "      <td>-42.0</td>\n",
       "      <td>4.191</td>\n",
       "      <td>5195.8</td>\n",
       "      <td>999.0</td>\n",
       "      <td>0</td>\n",
       "    </tr>\n",
       "    <tr>\n",
       "      <th>2</th>\n",
       "      <td>39.0</td>\n",
       "      <td>blue-collar</td>\n",
       "      <td>married</td>\n",
       "      <td>basic.9y</td>\n",
       "      <td>no</td>\n",
       "      <td>yes</td>\n",
       "      <td>no</td>\n",
       "      <td>cellular</td>\n",
       "      <td>apr</td>\n",
       "      <td>wed</td>\n",
       "      <td>...</td>\n",
       "      <td>999</td>\n",
       "      <td>1</td>\n",
       "      <td>failure</td>\n",
       "      <td>-1.8</td>\n",
       "      <td>93.075</td>\n",
       "      <td>-47.1</td>\n",
       "      <td>1.445</td>\n",
       "      <td>5099.1</td>\n",
       "      <td>999.0</td>\n",
       "      <td>5</td>\n",
       "    </tr>\n",
       "    <tr>\n",
       "      <th>3</th>\n",
       "      <td>32.0</td>\n",
       "      <td>admin.</td>\n",
       "      <td>single</td>\n",
       "      <td>NaN</td>\n",
       "      <td>no</td>\n",
       "      <td>yes</td>\n",
       "      <td>no</td>\n",
       "      <td>cellular</td>\n",
       "      <td>jul</td>\n",
       "      <td>thu</td>\n",
       "      <td>...</td>\n",
       "      <td>15</td>\n",
       "      <td>1</td>\n",
       "      <td>success</td>\n",
       "      <td>-1.7</td>\n",
       "      <td>94.215</td>\n",
       "      <td>-40.3</td>\n",
       "      <td>0.846</td>\n",
       "      <td>4991.6</td>\n",
       "      <td>0.5</td>\n",
       "      <td>1</td>\n",
       "    </tr>\n",
       "    <tr>\n",
       "      <th>4</th>\n",
       "      <td>NaN</td>\n",
       "      <td>services</td>\n",
       "      <td>married</td>\n",
       "      <td>unknown</td>\n",
       "      <td>no</td>\n",
       "      <td>yes</td>\n",
       "      <td>no</td>\n",
       "      <td>telephone</td>\n",
       "      <td>jun</td>\n",
       "      <td>NaN</td>\n",
       "      <td>...</td>\n",
       "      <td>999</td>\n",
       "      <td>0</td>\n",
       "      <td>nonexistent</td>\n",
       "      <td>1.4</td>\n",
       "      <td>94.465</td>\n",
       "      <td>-41.8</td>\n",
       "      <td>4.864</td>\n",
       "      <td>5228.1</td>\n",
       "      <td>999.0</td>\n",
       "      <td>0</td>\n",
       "    </tr>\n",
       "  </tbody>\n",
       "</table>\n",
       "<p>5 rows × 21 columns</p>\n",
       "</div>"
      ],
      "text/plain": [
       "   custAge   profession  marital    schooling default housing loan    contact  \\\n",
       "0     31.0     services   single  high.school      no      no   no   cellular   \n",
       "1     32.0     services  married     basic.4y      no      no   no   cellular   \n",
       "2     39.0  blue-collar  married     basic.9y      no     yes   no   cellular   \n",
       "3     32.0       admin.   single          NaN      no     yes   no   cellular   \n",
       "4      NaN     services  married      unknown      no     yes   no  telephone   \n",
       "\n",
       "  month day_of_week    ...      pdays  previous     poutcome emp.var.rate  \\\n",
       "0   jul         thu    ...        999         0  nonexistent          1.4   \n",
       "1   nov         mon    ...        999         0  nonexistent         -0.1   \n",
       "2   apr         wed    ...        999         1      failure         -1.8   \n",
       "3   jul         thu    ...         15         1      success         -1.7   \n",
       "4   jun         NaN    ...        999         0  nonexistent          1.4   \n",
       "\n",
       "   cons.price.idx  cons.conf.idx  euribor3m  nr.employed  pmonths  pastEmail  \n",
       "0          93.918          -42.7      4.968       5228.1    999.0          0  \n",
       "1          93.200          -42.0      4.191       5195.8    999.0          0  \n",
       "2          93.075          -47.1      1.445       5099.1    999.0          5  \n",
       "3          94.215          -40.3      0.846       4991.6      0.5          1  \n",
       "4          94.465          -41.8      4.864       5228.1    999.0          0  \n",
       "\n",
       "[5 rows x 21 columns]"
      ]
     },
     "execution_count": 9,
     "metadata": {},
     "output_type": "execute_result"
    }
   ],
   "source": [
    "test_original = pd.read_csv('data/DataPredict.csv')\n",
    "test_original.columns = train.columns[:-3]\n",
    "test_original.head()"
   ]
  },
  {
   "cell_type": "markdown",
   "metadata": {},
   "source": [
    "#### deal with test set"
   ]
  },
  {
   "cell_type": "code",
   "execution_count": 10,
   "metadata": {},
   "outputs": [
    {
     "name": "stderr",
     "output_type": "stream",
     "text": [
      "/usr/local/lib/python2.7/dist-packages/ipykernel_launcher.py:44: DeprecationWarning: \n",
      ".ix is deprecated. Please use\n",
      ".loc for label based indexing or\n",
      ".iloc for positional indexing\n",
      "\n",
      "See the documentation here:\n",
      "http://pandas.pydata.org/pandas-docs/stable/indexing.html#ix-indexer-is-deprecated\n",
      "/usr/local/lib/python2.7/dist-packages/ipykernel_launcher.py:11: SettingWithCopyWarning: \n",
      "A value is trying to be set on a copy of a slice from a DataFrame\n",
      "\n",
      "See the caveats in the documentation: http://pandas.pydata.org/pandas-docs/stable/indexing.html#indexing-view-versus-copy\n",
      "  # This is added back by InteractiveShellApp.init_path()\n"
     ]
    }
   ],
   "source": [
    "test = test_original.copy()\n",
    "test = test.replace(\"unknown\", np.nan)\n",
    "test, test_factors = refactor(test)\n",
    "test = fill_in_nan(test, 'day_of_week', N_ESTIMATORS, model)\n",
    "test = fill_in_nan(test, 'schooling', N_ESTIMATORS, model)\n",
    "test = fill_in_nan(test, 'custAge', N_ESTIMATORS, model)\n",
    "test = fill_in_nan(test, 'housing', N_ESTIMATORS, model)\n",
    "test = fill_in_nan(test, 'profession', N_ESTIMATORS, model)\n",
    "test = fill_in_nan(test, 'marital', N_ESTIMATORS, model)\n",
    "test = fill_in_nan(test, 'loan', N_ESTIMATORS, model)\n",
    "test.default[test.default.isna()] = 1"
   ]
  },
  {
   "cell_type": "code",
   "execution_count": 11,
   "metadata": {},
   "outputs": [],
   "source": [
    "prediction, forest = rf_predict(train, test, \n",
    "                                'responded', \n",
    "                                N_ESTIMATORS, \n",
    "                                prob=True, \n",
    "                                ignore_list=IGNORE_LIST, \n",
    "                                classifier=model)"
   ]
  },
  {
   "cell_type": "code",
   "execution_count": 12,
   "metadata": {},
   "outputs": [
    {
     "name": "stdout",
     "output_type": "stream",
     "text": [
      "[0.04312325 0.24771598 0.09010783 0.80000462 0.04384085 0.0461067\n",
      " 0.22276779 0.05572345 0.33770916 0.19911338 0.03218517 0.04224419\n",
      " 0.03824021 0.04802755 0.11776579 0.09190339 0.04294944 0.05509091\n",
      " 0.05156615 0.03906581]\n"
     ]
    }
   ],
   "source": [
    "CUTOFF = 0.48\n",
    "test_original['responded'] = prediction\n",
    "a = np.asarray(prediction)\n",
    "print a[:20]"
   ]
  },
  {
   "cell_type": "markdown",
   "metadata": {},
   "source": [
    "### Use Linear Regression model we get above to predict the profit in test set"
   ]
  },
  {
   "cell_type": "code",
   "execution_count": 13,
   "metadata": {},
   "outputs": [
    {
     "name": "stdout",
     "output_type": "stream",
     "text": [
      "(929, 21)\n"
     ]
    }
   ],
   "source": [
    "X_test = test.values.astype(np.float)\n",
    "print X_test.shape"
   ]
  },
  {
   "cell_type": "code",
   "execution_count": 14,
   "metadata": {},
   "outputs": [
    {
     "name": "stdout",
     "output_type": "stream",
     "text": [
      "[371.91840679 393.08206816 408.22015996 425.49038038 389.61983914\n",
      " 383.51565271 135.79500067 406.63475948 439.54427195 169.29444556\n",
      " 365.27850153 439.10806842 440.97709716 429.94907913 177.85139189\n",
      " 394.29286822 371.78189383 108.91289203 182.4252078  403.03748792]\n"
     ]
    }
   ],
   "source": [
    "y_test_pred = regr.predict(X_test)\n",
    "test_original['profit'] = y_test_pred\n",
    "print y_test_pred[:20]"
   ]
  },
  {
   "cell_type": "markdown",
   "metadata": {},
   "source": [
    "#### $$profit = Pr[responded]\\times pred\\_profit + (-30)\\times(1-Pr[responded])$$"
   ]
  },
  {
   "cell_type": "code",
   "execution_count": 15,
   "metadata": {},
   "outputs": [
    {
     "name": "stdout",
     "output_type": "stream",
     "text": [
      "Total profit prediction:  23204.6980913792\n"
     ]
    }
   ],
   "source": [
    "Profit = a*y_test_pred + (-30)*(1-a)\n",
    "test_original['market_to'] = 1*(Profit>0)\n",
    "print 'Total profit prediction: ', np.sum(Profit[Profit>0])"
   ]
  },
  {
   "cell_type": "code",
   "execution_count": 126,
   "metadata": {},
   "outputs": [],
   "source": [
    "test_original.to_csv('data/testingCandidate_output.csv', index=False)"
   ]
  }
 ],
 "metadata": {
  "kernelspec": {
   "display_name": "Python 2",
   "language": "python",
   "name": "python2"
  },
  "language_info": {
   "codemirror_mode": {
    "name": "ipython",
    "version": 2
   },
   "file_extension": ".py",
   "mimetype": "text/x-python",
   "name": "python",
   "nbconvert_exporter": "python",
   "pygments_lexer": "ipython2",
   "version": "2.7.12"
  }
 },
 "nbformat": 4,
 "nbformat_minor": 2
}
