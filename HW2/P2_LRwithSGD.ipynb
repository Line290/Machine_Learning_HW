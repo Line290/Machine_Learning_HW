{
 "cells": [
  {
   "cell_type": "code",
   "execution_count": 27,
   "metadata": {},
   "outputs": [],
   "source": [
    "import numpy as np\n",
    "import matplotlib.pylab as pl\n",
    "import random\n",
    "import pandas as pd"
   ]
  },
  {
   "cell_type": "code",
   "execution_count": 28,
   "metadata": {},
   "outputs": [],
   "source": [
    "def Huber(X, y, W, reg, sigma):\n",
    "    '''Input: \n",
    "            X: training data, shape is (N, D+1), the extra one dimenstion is use to add bias, all equal to 1\n",
    "            y: training data, shape is (N, 1)\n",
    "            W: weight, shape is (D+1, 1), the extra one dimenstion is bias b\n",
    "            reg: regularization strength\n",
    "            sigma: a threshold use to penalize outliers\n",
    "       Output:\n",
    "            loss: scala\n",
    "            dW: shape as W\n",
    "    '''\n",
    "    N, D = X.shape\n",
    "    y_pred = X.dot(W)\n",
    "    res = y - y_pred\n",
    "    res_abs = np.abs(res)\n",
    "\n",
    "    idx_l = np.argwhere(res_abs<=sigma)\n",
    "    idx_g = np.argwhere(res_abs>sigma)\n",
    "\n",
    "    loss = 0.5*np.sum(res[idx_l[:,0]]**2) + sigma * np.sum(res_abs[idx_g[:,0]] - 0.5*sigma) + 0.5 * reg * np.sum(W**2)\n",
    "    loss /= N\n",
    "    \n",
    "    dW = -X[idx_l[:,0]].T.dot(res[idx_l[:,0]]) - sigma * np.sum(X[idx_g[:,0]]*np.sign(res[idx_g[:,0]]), axis=0).reshape(-1,1)\n",
    "    dW = 1./N * dW + reg * W\n",
    "\n",
    "    return loss, dW"
   ]
  },
  {
   "cell_type": "code",
   "execution_count": 29,
   "metadata": {},
   "outputs": [],
   "source": [
    "def train_Huber(X, y, sigma, learning_rate, reg, num_iters, batch_size, verbose=False):\n",
    "    N, D = X.shape\n",
    "    # initialize W\n",
    "    W = 0.001 * np.random.randn(D, 1)\n",
    "    # save loss \n",
    "    loss_history = []\n",
    "    \n",
    "    for it in range(num_iters):\n",
    "        \n",
    "        mask = np.random.choice(N, batch_size)\n",
    "        X_batch = X[mask]\n",
    "        y_batch = y[mask]\n",
    "        \n",
    "        loss, dW = Huber(X_batch, y_batch, W, reg, sigma)\n",
    "#         print loss.shape\n",
    "        loss_history.append(float(loss))\n",
    "        # update W\n",
    "        W += - learning_rate*dW\n",
    "        # verbose\n",
    "        if verbose and it % 100 == 0:\n",
    "            print 'iteration %d / %d: loss %f' % (it, num_iters, loss)\n",
    "        \n",
    "    return loss_history, W"
   ]
  },
  {
   "cell_type": "code",
   "execution_count": 30,
   "metadata": {},
   "outputs": [],
   "source": [
    "def load_data(PATH):\n",
    "    data =np.loadtxt(PATH, skiprows=1)\n",
    "    X, y = data[:,0].reshape(-1,1), data[:,1].reshape(-1,1)\n",
    "    return X, y"
   ]
  },
  {
   "cell_type": "code",
   "execution_count": 31,
   "metadata": {
    "scrolled": true
   },
   "outputs": [
    {
     "name": "stdout",
     "output_type": "stream",
     "text": [
      "(105, 2)\n",
      "iteration 0 / 1000: loss 4.770910\n",
      "iteration 100 / 1000: loss 0.981346\n",
      "iteration 200 / 1000: loss 0.158506\n",
      "iteration 300 / 1000: loss 0.000802\n",
      "iteration 400 / 1000: loss 0.146144\n",
      "iteration 500 / 1000: loss 0.133241\n",
      "iteration 600 / 1000: loss 0.128251\n",
      "iteration 700 / 1000: loss 0.001823\n",
      "iteration 800 / 1000: loss 0.000040\n",
      "iteration 900 / 1000: loss 0.010112\n"
     ]
    }
   ],
   "source": [
    "PATH = './GPA.txt'\n",
    "X, y = load_data(PATH)\n",
    "# add a dimension to X, instead of use bias\n",
    "X = np.hstack((X, np.ones((X.shape[0],1))))\n",
    "print X.shape\n",
    "\n",
    "sigma = 2\n",
    "learning_rate = 1e-3\n",
    "reg = 1e-5\n",
    "num_iters = 1000\n",
    "batch_size = 1\n",
    "loss_history, W = train_Huber(X, y, sigma, learning_rate, reg, num_iters, batch_size, verbose=True)"
   ]
  },
  {
   "cell_type": "code",
   "execution_count": 32,
   "metadata": {},
   "outputs": [
    {
     "data": {
      "image/png": "[encoded data removed]",
      "text/plain": [
       "<matplotlib.figure.Figure at 0x7efd1d0b5310>"
      ]
     },
     "metadata": {},
     "output_type": "display_data"
    }
   ],
   "source": [
    "y_p = X.dot(W)\n",
    "pl.plot(X[:,0], y, 'o')\n",
    "pl.plot(X[:,0], y_p, 'k-')\n",
    "pl.show()"
   ]
  },
  {
   "cell_type": "code",
   "execution_count": 33,
   "metadata": {},
   "outputs": [
    {
     "name": "stdout",
     "output_type": "stream",
     "text": [
      "[[0.92182326]\n",
      " [0.31002542]]\n"
     ]
    }
   ],
   "source": [
    "print W"
   ]
  },
  {
   "cell_type": "markdown",
   "metadata": {},
   "source": [
    "# $y = 0.92x + 0.31$"
   ]
  },
  {
   "cell_type": "code",
   "execution_count": 34,
   "metadata": {},
   "outputs": [
    {
     "data": {
      "image/png": "[encoded data removed]",
      "text/plain": [
       "<matplotlib.figure.Figure at 0x7efd1d0b5690>"
      ]
     },
     "metadata": {},
     "output_type": "display_data"
    }
   ],
   "source": [
    "import matplotlib.pyplot as plt\n",
    "plt.plot(loss_history)\n",
    "plt.xlabel('Iteration number')\n",
    "plt.ylabel('Loss value')\n",
    "plt.show()"
   ]
  },
  {
   "cell_type": "code",
   "execution_count": null,
   "metadata": {},
   "outputs": [],
   "source": [
    "def LS(X, y, W):\n",
    "    '''Input: \n",
    "            X: training data, shape is (N, D+1), the extra one dimenstion is use to add bias, all equal to 1\n",
    "            y: training data, shape is (N, 1)\n",
    "            W: weight, shape is (D+1, 1), the extra one dimenstion is bias b\n",
    "       Output:\n",
    "            loss: scala\n",
    "            dW: shape as W\n",
    "    '''\n",
    "    N, D = X.shape\n",
    "    y_pred = X.dot(W)\n",
    "    loss = .5/N * np.sum((y - y_pred)**2)\n",
    "    dW = -1./N * X.T.dot(y - y_pred)\n",
    "    return loss, dW"
   ]
  },
  {
   "cell_type": "code",
   "execution_count": null,
   "metadata": {},
   "outputs": [],
   "source": [
    "def train_LS(X, y, learning_rate, num_iters, batch_size, verbose=False):\n",
    "    N, D = X.shape\n",
    "    # initialize W\n",
    "    W = 0.001 * np.random.randn(D, 1)\n",
    "    # save loss \n",
    "    loss_history = []\n",
    "    \n",
    "    for it in range(num_iters):\n",
    "        \n",
    "        mask = np.random.choice(N, batch_size)\n",
    "        X_batch = X[mask]\n",
    "        y_batch = y[mask]\n",
    "        \n",
    "        loss, dW = gradient(X_batch, y_batch, W)\n",
    "#         print loss.shape\n",
    "        loss_history.append(float(loss))\n",
    "        # update W\n",
    "        W += - learning_rate*dW\n",
    "        # verbose\n",
    "        if verbose and it % 100 == 0:\n",
    "            print 'iteration %d / %d: loss %f' % (it, num_iters, loss)\n",
    "        \n",
    "    return loss_history, W"
   ]
  }
 ],
 "metadata": {
  "kernelspec": {
   "display_name": "Python 2",
   "language": "python",
   "name": "python2"
  },
  "language_info": {
   "codemirror_mode": {
    "name": "ipython",
    "version": 2
   },
   "file_extension": ".py",
   "mimetype": "text/x-python",
   "name": "python",
   "nbconvert_exporter": "python",
   "pygments_lexer": "ipython2",
   "version": "2.7.12"
  }
 },
 "nbformat": 4,
 "nbformat_minor": 2
}
